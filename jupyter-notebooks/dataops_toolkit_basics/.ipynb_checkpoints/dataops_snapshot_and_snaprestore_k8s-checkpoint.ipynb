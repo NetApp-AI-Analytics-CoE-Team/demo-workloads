{
 "cells": [
  {
   "cell_type": "markdown",
   "id": "608a2bb4-b1df-44fa-be25-a0970e2eaa78",
   "metadata": {},
   "source": [
    "# SnapShot and SnapRestore with NetApp DataOps Toolkit for Kuberenetes"
   ]
  },
  {
   "cell_type": "markdown",
   "id": "129e89ee-989e-469a-a966-a5fa6f0e0be0",
   "metadata": {},
   "source": [
    "本デモではNetApp DataOps Toolkitを使用して、永続ボリューム（K8s PersistentVolume）内のデータを高速にバックアップ・リストアできることを確認します。  \n",
    "NetApp DataOps Toolkitはオープンソースソフトウェアであり、利用方法も含めて下記GitHub上で公開されています。  \n",
    "https://github.com/NetApp/netapp-dataops-toolkit/tree/main"
   ]
  },
  {
   "cell_type": "code",
   "execution_count": null,
   "id": "08e4e6af-532b-4d72-86f3-001f00172ea5",
   "metadata": {
    "tags": []
   },
   "outputs": [],
   "source": [
    "# ! python3 -m pip install netapp-dataops-k8s"
   ]
  },
  {
   "cell_type": "markdown",
   "id": "73528f2e-ab0a-4660-ad70-1b3427d833c6",
   "metadata": {
    "tags": []
   },
   "source": [
    "## ライブラリのインポート\n",
    "本デモで使用するNetApp DataOps Toolkitと汎用ライブラリをインポートします。"
   ]
  },
  {
   "cell_type": "code",
   "execution_count": 14,
   "id": "27bbaf85-4678-47ff-91eb-8afc64eaca29",
   "metadata": {
    "tags": []
   },
   "outputs": [],
   "source": [
    "# 汎用ライブラリのインポート\n",
    "import datetime\n",
    "import os\n",
    "import sys"
   ]
  },
  {
   "cell_type": "code",
   "execution_count": 15,
   "id": "cf688ca9-6670-4d40-9140-2423ab1a463e",
   "metadata": {
    "tags": []
   },
   "outputs": [],
   "source": [
    "# (Option)ライブラリのimport先を指定\n",
    "sys.path.append(\"/home/jovyan/netapp-dataops-toolkit\")\n",
    "from netapp_dataops.k8s import list_volumes, create_volume_snapshot, list_volume_snapshots, clone_volume"
   ]
  },
  {
   "cell_type": "markdown",
   "id": "59d7ee4b-a453-478e-9662-a3e096a66acb",
   "metadata": {
    "tags": []
   },
   "source": [
    "## デモ環境の事前確認\n",
    "NetApp DataOps Toolkitでバックアップを取得する前に、現在の永続ボリュームの状態を確認します。なお本ワークショップではマルチテナント化されたKubeflowの環境を想定しています。  \n",
    "以下にお使いのKubeflowのテナント名（=k8s namespace）名を入力します。"
   ]
  },
  {
   "cell_type": "code",
   "execution_count": 16,
   "id": "622772a2-ecf0-4d4f-91a1-4d847166756b",
   "metadata": {
    "tags": []
   },
   "outputs": [],
   "source": [
    "# 利用中のテナント名（=k8s namespace）を入力\n",
    "YOUR_NAMESPACE = 'yshimizu'"
   ]
  },
  {
   "cell_type": "markdown",
   "id": "ceb8d18c-494d-4189-b48d-186f905814a7",
   "metadata": {},
   "source": [
    "次にNetApp DataOps Toolkitを使用して、お使いのテナント内に払い出された永続ボリュームの一覧を確認します"
   ]
  },
  {
   "cell_type": "code",
   "execution_count": 17,
   "id": "f2a0ea43-3516-426d-8908-8b79189246c9",
   "metadata": {
    "tags": []
   },
   "outputs": [
    {
     "name": "stdout",
     "output_type": "stream",
     "text": [
      "PersistentVolumeClaim (PVC) Name    Status    Size      StorageClass    Clone    Source PVC    Source VolumeSnapshot\n",
      "----------------------------------  --------  --------  --------------  -------  ------------  -----------------------\n",
      "100tb-volume                        Bound     100000Gi  nfs             No\n",
      "ai-coe-sync-demo                    Bound     100Gi     nfs             No\n",
      "ai-platform-demo-datavol-1          Bound     1000Gi    nfs-large       No\n",
      "ai-platform-demo-volume             Bound     10Gi      nfs             No\n",
      "dataset-cats                        Bound     100Gi     nfs             No\n",
      "demo-workspace1-volume              Bound     100Gi     nfs             No\n",
      "large-vol                           Bound     1Ti       nfs             No\n",
      "netapp-dataops-demo-workspace       Bound     5Gi       nfs             No\n",
      "netapp-dataops-toolkit              Bound     10Gi      nfs             No\n",
      "test-note-volume                    Bound     10Gi      nfs             No\n",
      "workspace-demo1-volume              Bound     100Gi     nfs             No\n",
      "workspace1-volume                   Bound     100Gi     nfs             No\n"
     ]
    }
   ],
   "source": [
    "# FSxN上に作成されたボリューム一覧の確認\n",
    "volumes = list_volumes(namespace=YOUR_NAMESPACE, print_output=True)"
   ]
  },
  {
   "cell_type": "markdown",
   "id": "33c5f2db-6661-4f71-8a84-1d0f5a737147",
   "metadata": {},
   "source": [
    "上記出力結果からバックアップ対象のボリュームを選定し、以下の変数に代入します"
   ]
  },
  {
   "cell_type": "code",
   "execution_count": 18,
   "id": "b15f7047-e7f3-4728-9614-392964fd26c8",
   "metadata": {
    "tags": []
   },
   "outputs": [],
   "source": [
    "# 上記で表示されたボリュームからバックアップ対象ボリューム（PVC）の名称を指定\n",
    "PVC_NAME = 'large-vol'"
   ]
  },
  {
   "cell_type": "markdown",
   "id": "88f9347e-91a7-40d0-84d8-bd8d7d1305a1",
   "metadata": {
    "tags": []
   },
   "source": [
    "## NetApp DataOps Toolkitを使用したボリュームの高速バックアップ"
   ]
  },
  {
   "cell_type": "code",
   "execution_count": 19,
   "id": "d539e215-0837-491d-ae1d-9a586fbdccf4",
   "metadata": {
    "tags": []
   },
   "outputs": [],
   "source": [
    "# 取得するSnapshotの名称を生成\n",
    "t_delta = datetime.timedelta(hours=9)\n",
    "JST = datetime.timezone(t_delta, 'JST')\n",
    "now = datetime.datetime.now(JST)\n",
    "timestamp = now.strftime('%Y%m%d%H%M%S')\n",
    "SNAPSHOT_NAME = \"snapshot-\" + timestamp"
   ]
  },
  {
   "cell_type": "markdown",
   "id": "9256d038-697e-480c-bedb-e1f058932260",
   "metadata": {},
   "source": [
    "上記で確認したボリュームのバックアップを取得します。  \n",
    "下記のコードによりNetApp DataOps ToolkitはCSI-Snapshotterを介して、volumeSnapshotの取得を行います。  \n",
    "TridentのバックエンドストレージがNetApp ONTAPの場合、ボリューム内の実データではなく、データへのポインタ情報のみをバックアップするため大規模なボリュームであっても、バックアップ自体の容量は極めて小さく、バックアップ処理も瞬時に完了します。"
   ]
  },
  {
   "cell_type": "code",
   "execution_count": 21,
   "id": "62355ce2-2042-44dc-9a4a-08539afc3449",
   "metadata": {
    "tags": []
   },
   "outputs": [
    {
     "name": "stdout",
     "output_type": "stream",
     "text": [
      "Creating VolumeSnapshot 'snapshot-20240527155736' for PersistentVolumeClaim (PVC) 'large-vol' in namespace 'yshimizu'.\n",
      "VolumeSnapshot 'snapshot-20240527155736' created. Waiting for Trident to create snapshot on backing storage.\n",
      "Snapshot successfully created.\n"
     ]
    }
   ],
   "source": [
    "# NetApp DataOps Toolkitを使用して、ボリュームのSnapshotを取得\n",
    "create_volume_snapshot(namespace=YOUR_NAMESPACE, pvc_name=PVC_NAME, snapshot_name=SNAPSHOT_NAME, print_output=True)"
   ]
  },
  {
   "cell_type": "code",
   "execution_count": 22,
   "id": "63f57ab2-e191-4839-b6a6-cd236c3eeda2",
   "metadata": {
    "tags": []
   },
   "outputs": [
    {
     "name": "stdout",
     "output_type": "stream",
     "text": [
      "VolumeSnapshot Name      Ready to Use    Creation Time         Source PersistentVolumeClaim (PVC)    Source JupyterLab workspace    VolumeSnapshotClass\n",
      "-----------------------  --------------  --------------------  ------------------------------------  -----------------------------  ---------------------\n",
      "snapshot-20230913130807  True            2023-09-13T04:08:14Z  large-vol                                                            csi-snapclass\n",
      "snapshot-20230913133129  True            2023-09-13T04:53:10Z  large-vol                                                            csi-snapclass\n",
      "snapshot-20240527155736  True            2024-05-27T07:20:20Z  large-vol                                                            csi-snapclass\n"
     ]
    }
   ],
   "source": [
    "# 取得したSnapshotの一覧を確認\n",
    "snap = list_volume_snapshots(namespace=YOUR_NAMESPACE, pvc_name=PVC_NAME, print_output=True)"
   ]
  },
  {
   "cell_type": "code",
   "execution_count": null,
   "id": "544fd21d-07e1-43eb-b16a-4f7d52d161a0",
   "metadata": {},
   "outputs": [],
   "source": []
  }
 ],
 "metadata": {
  "kernelspec": {
   "display_name": "Python 3 (ipykernel)",
   "language": "python",
   "name": "python3"
  },
  "language_info": {
   "codemirror_mode": {
    "name": "ipython",
    "version": 3
   },
   "file_extension": ".py",
   "mimetype": "text/x-python",
   "name": "python",
   "nbconvert_exporter": "python",
   "pygments_lexer": "ipython3",
   "version": "3.11.6"
  }
 },
 "nbformat": 4,
 "nbformat_minor": 5
}
