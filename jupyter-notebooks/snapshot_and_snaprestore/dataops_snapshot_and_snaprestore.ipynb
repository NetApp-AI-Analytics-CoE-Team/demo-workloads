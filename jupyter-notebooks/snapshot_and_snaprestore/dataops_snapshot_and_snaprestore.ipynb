{
 "cells": [
  {
   "cell_type": "markdown",
   "id": "608a2bb4-b1df-44fa-be25-a0970e2eaa78",
   "metadata": {},
   "source": [
    "# SnapShot and SnapRestore with NetApp DataOps Toolkit"
   ]
  },
  {
   "cell_type": "markdown",
   "id": "129e89ee-989e-469a-a966-a5fa6f0e0be0",
   "metadata": {},
   "source": [
    "本デモではNetApp DataOps Toolkitを使用して、ONTAPボリューム内のデータを高速にバックアップ・リストアできることを確認します。  \n",
    "NetApp DataOps Toolkitはオープンソースソフトウェアであり、利用方法も含めて下記GitHub上で公開されています。  \n",
    "https://github.com/NetApp/netapp-dataops-toolkit/tree/main"
   ]
  },
  {
   "cell_type": "markdown",
   "id": "73528f2e-ab0a-4660-ad70-1b3427d833c6",
   "metadata": {
    "tags": []
   },
   "source": [
    "## ライブラリのインポート\n",
    "本デモで使用するNetApp DataOps Toolkitと汎用ライブラリをインポートします。"
   ]
  },
  {
   "cell_type": "code",
   "execution_count": 13,
   "id": "b86be5ec-f404-45d1-8cd0-741aad1357b8",
   "metadata": {
    "tags": []
   },
   "outputs": [],
   "source": [
    "# NetApp Dataops Toolkitをインポート\n",
    "from netapp_dataops.traditional import list_volumes, create_snapshot, list_snapshots, restore_snapshot, list_cloud_sync_relationships, sync_cloud_sync_relationship\n",
    "\n",
    "# 汎用ライブラリ群をインポート\n",
    "import os\n",
    "import datetime"
   ]
  },
  {
   "cell_type": "markdown",
   "id": "59d7ee4b-a453-478e-9662-a3e096a66acb",
   "metadata": {
    "tags": []
   },
   "source": [
    "## デモ環境の事前確認\n",
    "NetApp DataOps Toolkitでバックアップを取得する前に、現在のボリュームの状態を確認します。本デモではAmazon FSx for NetApp ONTAP(以下、FSxN)に作成された\"non_cache_1\"をバックアップの取得対象とします。"
   ]
  },
  {
   "cell_type": "code",
   "execution_count": 14,
   "id": "f2a0ea43-3516-426d-8908-8b79189246c9",
   "metadata": {
    "tags": []
   },
   "outputs": [
    {
     "name": "stdout",
     "output_type": "stream",
     "text": [
      "Volume Name              Size     Type       NFS Mount Target                       FlexCache    Clone    Source SVM    Source Volume    Source Snapshot\n",
      "-----------------------  -------  ---------  -------------------------------------  -----------  -------  ------------  ---------------  -----------------\n",
      "non_cache_1              100.0GB  flexvol    10.104.4.166:/non_cache_1              no           no\n",
      "flexcache_onprem_to_aws  100.0GB  flexgroup  10.104.4.166:/flexcache_onprem_to_aws  yes          no\n",
      "flexcache_aws_to_onprem  400.0GB  flexgroup  10.104.4.166:/flexcache_aws_to_onprem  no           no\n"
     ]
    }
   ],
   "source": [
    "# FSxN上に作成されたボリューム一覧の確認\n",
    "volumes = list_volumes(print_output=True)"
   ]
  },
  {
   "cell_type": "code",
   "execution_count": 15,
   "id": "c599bb5e-d022-444f-9354-08f29245bd66",
   "metadata": {
    "tags": []
   },
   "outputs": [
    {
     "name": "stdout",
     "output_type": "stream",
     "text": [
      "Filesystem                             Size  Used Avail Use% Mounted on\n",
      "devtmpfs                               1.9G     0  1.9G   0% /dev\n",
      "tmpfs                                  1.9G     0  1.9G   0% /dev/shm\n",
      "tmpfs                                  1.9G  624K  1.9G   1% /run\n",
      "tmpfs                                  1.9G     0  1.9G   0% /sys/fs/cgroup\n",
      "/dev/nvme0n1p1                         180G  135G   46G  75% /\n",
      "/dev/nvme1n1                           4.8G  348K  4.6G   1% /home/ec2-user/SageMaker\n",
      "tmpfs                                  386M     0  386M   0% /run/user/1000\n",
      "tmpfs                                  386M     0  386M   0% /run/user/1001\n",
      "tmpfs                                  386M     0  386M   0% /run/user/1002\n",
      "10.104.4.166:/flexcache_onprem_to_aws  380G  4.2G  376G   2% /mnt/fsxn\n",
      "10.103.4.101:/flexcache_onprem_to_aws  380G  4.2G  376G   2% /mnt/onprem\n",
      "10.104.4.166:/non_cache_1               95G  9.1G   86G  10% /mnt/fsxn-non-cache\n"
     ]
    },
    {
     "data": {
      "text/plain": [
       "0"
      ]
     },
     "execution_count": 15,
     "metadata": {},
     "output_type": "execute_result"
    }
   ],
   "source": [
    "# バックアップ対象ボリュームが本ノートブックにマウントされていることを確認\n",
    "os.system(\"df -h\")"
   ]
  },
  {
   "cell_type": "code",
   "execution_count": 16,
   "id": "b15f7047-e7f3-4728-9614-392964fd26c8",
   "metadata": {
    "tags": []
   },
   "outputs": [
    {
     "name": "stdout",
     "output_type": "stream",
     "text": [
      "total 24\n",
      "drwxrwxr-x  3 ec2-user ec2-user 4096 Jul 25 07:07 input\n",
      "drwxrwxr-x  2 ec2-user ec2-user 4096 Jul 25 07:07 jobs\n",
      "drwxrwxr-x  2 ec2-user ec2-user 4096 Aug 24 07:57 logs\n",
      "drwxrwxr-x  3 ec2-user ec2-user 4096 Aug 23 08:45 output\n",
      "drwxrwxr-x  3 ec2-user ec2-user 4096 Aug  1 09:25 sagemaker\n",
      "drwxr-xr-x 10 ec2-user ec2-user 4096 Jul 27 07:57 spack\n"
     ]
    },
    {
     "data": {
      "text/plain": [
       "0"
      ]
     },
     "execution_count": 16,
     "metadata": {},
     "output_type": "execute_result"
    }
   ],
   "source": [
    "# バックアップ対象ボリューム内のファイルを確認\n",
    "os.system(\"ls -l /mnt/fsxn-non-cache\")"
   ]
  },
  {
   "cell_type": "markdown",
   "id": "88f9347e-91a7-40d0-84d8-bd8d7d1305a1",
   "metadata": {},
   "source": [
    "## NetApp DataOps Toolkitを使用したボリュームの高速バックアップ\n",
    "上記で確認したボリュームのバックアップを取得します。下記のコードによりNetApp DataOps ToolkitはONTAPのAPIを介して、ONTAPの機能であるSnapshotを実行します。ONTAPのSnapshot機能では、ボリューム内の実データではなく、データへのポインタ情報のみをバックアップするため大規模なボリュームであっても、バックアップ自体の容量は極めて小さく、バックアップ処理も瞬時に完了します。"
   ]
  },
  {
   "cell_type": "code",
   "execution_count": 18,
   "id": "d539e215-0837-491d-ae1d-9a586fbdccf4",
   "metadata": {
    "tags": []
   },
   "outputs": [],
   "source": [
    "# バックアップ対象ボリュームの名称\n",
    "VOL_NAME = \"non_cache_1\"\n",
    "\n",
    "# 取得するSnapshotの名称を生成\n",
    "t_delta = datetime.timedelta(hours=9)\n",
    "JST = datetime.timezone(t_delta, 'JST')\n",
    "now = datetime.datetime.now(JST)\n",
    "timestamp = now.strftime('%Y%m%d%H%M%S')\n",
    "SNAPSHOT_NAME = \"snapshot_\" + timestamp"
   ]
  },
  {
   "cell_type": "code",
   "execution_count": 19,
   "id": "62355ce2-2042-44dc-9a4a-08539afc3449",
   "metadata": {
    "tags": []
   },
   "outputs": [
    {
     "name": "stdout",
     "output_type": "stream",
     "text": [
      "Creating snapshot 'snapshot_20230824171521'.\n",
      "Snapshot created successfully.\n"
     ]
    }
   ],
   "source": [
    "# NetApp DataOps Toolkitを使用して、ボリュームのSnapshotを取得\n",
    "create_snapshot(volume_name=VOL_NAME, snapshot_name=SNAPSHOT_NAME, print_output=True)"
   ]
  },
  {
   "cell_type": "code",
   "execution_count": 20,
   "id": "63f57ab2-e191-4839-b6a6-cd236c3eeda2",
   "metadata": {
    "tags": []
   },
   "outputs": [
    {
     "name": "stdout",
     "output_type": "stream",
     "text": [
      "Snapshot Name            Create Time\n",
      "-----------------------  -------------------------\n",
      "snapshot_20230824        2023-08-24 03:19:17+00:00\n",
      "SNAPSHOT_NAME            2023-08-24 03:31:10+00:00\n",
      "snapshot_20230824123136  2023-08-24 03:31:36+00:00\n",
      "snapshot_20230824125359  2023-08-24 03:53:59+00:00\n",
      "snapshot_20230824125426  2023-08-24 03:54:29+00:00\n",
      "snapshot_20230824171521  2023-08-24 08:15:23+00:00\n"
     ]
    }
   ],
   "source": [
    "# 取得したSnapshotの一覧を確認\n",
    "snap = list_snapshots(volume_name=VOL_NAME, print_output=True)"
   ]
  },
  {
   "cell_type": "markdown",
   "id": "f65f079e-7a99-4476-995e-9b2d6a14104c",
   "metadata": {},
   "source": [
    "## NetApp DataOps Toolkitを使用したボリュームの高速リストア\n",
    "上記で取得したバックアップをリストアします。NetApp DataOps ToolkitではONTAPのAPIを介して、ONTAPのSnapRestore機能を実行します。ONTAPのSnapRestore機能ではバックアップ時に記録したデータへのポインタ情報のみを復元するため、大規模なボリュームであっても瞬時にリストアを行うことが可能です。"
   ]
  },
  {
   "cell_type": "code",
   "execution_count": 21,
   "id": "6d23e781-13b3-4a65-a1a2-629071c3b16d",
   "metadata": {
    "tags": []
   },
   "outputs": [
    {
     "name": "stdout",
     "output_type": "stream",
     "text": [
      "total 24\n",
      "-rw-rw-r--  1 ec2-user ec2-user    0 Aug 24 08:17 demofile\n",
      "drwxrwxr-x  3 ec2-user ec2-user 4096 Jul 25 07:07 input\n",
      "drwxrwxr-x  2 ec2-user ec2-user 4096 Jul 25 07:07 jobs\n",
      "drwxrwxr-x  2 ec2-user ec2-user 4096 Aug 24 07:57 logs\n",
      "drwxrwxr-x  3 ec2-user ec2-user 4096 Aug 23 08:45 output\n",
      "drwxrwxr-x  3 ec2-user ec2-user 4096 Aug  1 09:25 sagemaker\n",
      "drwxr-xr-x 10 ec2-user ec2-user 4096 Jul 27 07:57 spack\n"
     ]
    },
    {
     "data": {
      "text/plain": [
       "0"
      ]
     },
     "execution_count": 21,
     "metadata": {},
     "output_type": "execute_result"
    }
   ],
   "source": [
    "# リストアの確認用にバックアップ対象のボリューム内にテスト用データを作成\n",
    "os.system(\"touch /mnt/fsxn-non-cache/demofile\")\n",
    "\n",
    "# demofileが作成されていることを確認\n",
    "os.system(\"ls -l /mnt/fsxn-non-cache\")"
   ]
  },
  {
   "cell_type": "code",
   "execution_count": 22,
   "id": "dea4e7b5-3703-4e5e-8b2f-ce08d9844f5c",
   "metadata": {
    "tags": []
   },
   "outputs": [
    {
     "name": "stdout",
     "output_type": "stream",
     "text": [
      "Restoring snapshot 'snapshot_20230824171521'.\n",
      "Snapshot restored successfully.\n"
     ]
    }
   ],
   "source": [
    "# NetApp DataOps Toolkitを使用して、SnapRestoreを実行\n",
    "restore_snapshot(volume_name=VOL_NAME, snapshot_name=SNAPSHOT_NAME, print_output=True)"
   ]
  },
  {
   "cell_type": "code",
   "execution_count": 23,
   "id": "119f4b23-8156-4b18-a64a-559eda46c712",
   "metadata": {
    "tags": []
   },
   "outputs": [
    {
     "name": "stdout",
     "output_type": "stream",
     "text": [
      "total 24\n",
      "drwxrwxr-x  3 ec2-user ec2-user 4096 Jul 25 07:07 input\n",
      "drwxrwxr-x  2 ec2-user ec2-user 4096 Jul 25 07:07 jobs\n",
      "drwxrwxr-x  2 ec2-user ec2-user 4096 Aug 24 07:57 logs\n",
      "drwxrwxr-x  3 ec2-user ec2-user 4096 Aug 23 08:45 output\n",
      "drwxrwxr-x  3 ec2-user ec2-user 4096 Aug  1 09:25 sagemaker\n",
      "drwxr-xr-x 10 ec2-user ec2-user 4096 Jul 27 07:57 spack\n"
     ]
    },
    {
     "data": {
      "text/plain": [
       "0"
      ]
     },
     "execution_count": 23,
     "metadata": {},
     "output_type": "execute_result"
    }
   ],
   "source": [
    "# 先ほど作成したdemofileが存在しないことを確認\n",
    "os.system(\"ls -l /mnt/fsxn-non-cache\")"
   ]
  },
  {
   "cell_type": "code",
   "execution_count": null,
   "id": "a85a3b1f-d874-4a63-8195-c1a270b51264",
   "metadata": {},
   "outputs": [],
   "source": []
  }
 ],
 "metadata": {
  "kernelspec": {
   "display_name": "conda_python3",
   "language": "python",
   "name": "conda_python3"
  },
  "language_info": {
   "codemirror_mode": {
    "name": "ipython",
    "version": 3
   },
   "file_extension": ".py",
   "mimetype": "text/x-python",
   "name": "python",
   "nbconvert_exporter": "python",
   "pygments_lexer": "ipython3",
   "version": "3.10.10"
  }
 },
 "nbformat": 4,
 "nbformat_minor": 5
}
