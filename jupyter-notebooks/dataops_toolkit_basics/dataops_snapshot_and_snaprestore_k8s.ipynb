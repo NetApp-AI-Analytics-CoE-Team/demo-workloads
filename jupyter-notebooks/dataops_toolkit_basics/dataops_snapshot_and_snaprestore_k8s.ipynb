{
 "cells": [
  {
   "cell_type": "markdown",
   "id": "608a2bb4-b1df-44fa-be25-a0970e2eaa78",
   "metadata": {},
   "source": [
    "# SnapShot and SnapRestore with NetApp DataOps Toolkit for Kuberenetes"
   ]
  },
  {
   "cell_type": "markdown",
   "id": "129e89ee-989e-469a-a966-a5fa6f0e0be0",
   "metadata": {},
   "source": [
    "本デモではNetApp DataOps Toolkitを使用して、永続ボリューム（K8s PersistentVolume）内のデータを高速にバックアップ・リストアできることを確認します。  \n",
    "NetApp DataOps Toolkitはオープンソースソフトウェアであり、利用方法も含めて下記GitHub上で公開されています。  \n",
    "https://github.com/NetApp/netapp-dataops-toolkit/tree/main"
   ]
  },
  {
   "cell_type": "code",
   "execution_count": 2,
   "id": "08e4e6af-532b-4d72-86f3-001f00172ea5",
   "metadata": {
    "tags": []
   },
   "outputs": [
    {
     "name": "stdout",
     "output_type": "stream",
     "text": [
      "Collecting netapp-dataops-k8s\n",
      "  Using cached netapp_dataops_k8s-2.4.0-py3-none-any.whl (45 kB)\n",
      "Collecting requests==2.25.1\n",
      "  Using cached requests-2.25.1-py2.py3-none-any.whl (61 kB)\n",
      "Collecting func-timeout==4.3.5\n",
      "  Using cached func_timeout-4.3.5-py3-none-any.whl\n",
      "Collecting idna==2.10\n",
      "  Using cached idna-2.10-py2.py3-none-any.whl (58 kB)\n",
      "Requirement already satisfied: pandas in /opt/conda/lib/python3.8/site-packages (from netapp-dataops-k8s) (1.2.4)\n",
      "Collecting dnspython==2.1.0\n",
      "  Using cached dnspython-2.1.0-py3-none-any.whl (241 kB)\n",
      "Collecting urllib3==1.26.5\n",
      "  Using cached urllib3-1.26.5-py2.py3-none-any.whl (138 kB)\n",
      "Collecting kubernetes==23.6.0\n",
      "  Using cached kubernetes-23.6.0-py2.py3-none-any.whl (1.5 MB)\n",
      "Requirement already satisfied: numpy>=1.22.0 in /opt/conda/lib/python3.8/site-packages (from netapp-dataops-k8s) (1.22.4)\n",
      "Collecting actoolkit==2.1.3\n",
      "  Using cached actoolkit-2.1.3-py3-none-any.whl (28 kB)\n",
      "Collecting chardet==4.0.0\n",
      "  Using cached chardet-4.0.0-py2.py3-none-any.whl (178 kB)\n",
      "Requirement already satisfied: PyYAML==5.4.1 in /opt/conda/lib/python3.8/site-packages (from netapp-dataops-k8s) (5.4.1)\n",
      "Collecting termcolor==1.1.0\n",
      "  Using cached termcolor-1.1.0-py3-none-any.whl\n",
      "Collecting tabulate==0.8.9\n",
      "  Using cached tabulate-0.8.9-py3-none-any.whl (25 kB)\n",
      "Requirement already satisfied: notebook in /opt/conda/lib/python3.8/site-packages (from netapp-dataops-k8s) (6.4.12)\n",
      "Collecting certifi==2020.12.5\n",
      "  Using cached certifi-2020.12.5-py2.py3-none-any.whl (147 kB)\n",
      "Requirement already satisfied: websocket-client!=0.40.0,!=0.41.*,!=0.42.*,>=0.32.0 in /opt/conda/lib/python3.8/site-packages (from kubernetes==23.6.0->netapp-dataops-k8s) (1.5.1)\n",
      "Requirement already satisfied: six>=1.9.0 in /opt/conda/lib/python3.8/site-packages (from kubernetes==23.6.0->netapp-dataops-k8s) (1.16.0)\n",
      "Requirement already satisfied: setuptools>=21.0.0 in /opt/conda/lib/python3.8/site-packages (from kubernetes==23.6.0->netapp-dataops-k8s) (67.6.0)\n",
      "Requirement already satisfied: google-auth>=1.0.1 in /opt/conda/lib/python3.8/site-packages (from kubernetes==23.6.0->netapp-dataops-k8s) (1.35.0)\n",
      "Requirement already satisfied: requests-oauthlib in /opt/conda/lib/python3.8/site-packages (from kubernetes==23.6.0->netapp-dataops-k8s) (1.3.1)\n",
      "Requirement already satisfied: python-dateutil>=2.5.3 in /opt/conda/lib/python3.8/site-packages (from kubernetes==23.6.0->netapp-dataops-k8s) (2.8.2)\n",
      "Requirement already satisfied: traitlets>=4.2.1 in /opt/conda/lib/python3.8/site-packages (from notebook->netapp-dataops-k8s) (5.9.0)\n",
      "Requirement already satisfied: argon2-cffi in /opt/conda/lib/python3.8/site-packages (from notebook->netapp-dataops-k8s) (21.3.0)\n",
      "Requirement already satisfied: tornado>=6.1 in /opt/conda/lib/python3.8/site-packages (from notebook->netapp-dataops-k8s) (6.2)\n",
      "Requirement already satisfied: ipython-genutils in /opt/conda/lib/python3.8/site-packages (from notebook->netapp-dataops-k8s) (0.2.0)\n",
      "Requirement already satisfied: ipykernel in /opt/conda/lib/python3.8/site-packages (from notebook->netapp-dataops-k8s) (6.15.0)\n",
      "Requirement already satisfied: terminado>=0.8.3 in /opt/conda/lib/python3.8/site-packages (from notebook->netapp-dataops-k8s) (0.17.1)\n",
      "Requirement already satisfied: pyzmq>=17 in /opt/conda/lib/python3.8/site-packages (from notebook->netapp-dataops-k8s) (25.0.2)\n",
      "Requirement already satisfied: jupyter-client>=5.3.4 in /opt/conda/lib/python3.8/site-packages (from notebook->netapp-dataops-k8s) (8.1.0)\n",
      "Requirement already satisfied: prometheus-client in /opt/conda/lib/python3.8/site-packages (from notebook->netapp-dataops-k8s) (0.16.0)\n",
      "Requirement already satisfied: jinja2 in /opt/conda/lib/python3.8/site-packages (from notebook->netapp-dataops-k8s) (3.1.2)\n",
      "Requirement already satisfied: Send2Trash>=1.8.0 in /opt/conda/lib/python3.8/site-packages (from notebook->netapp-dataops-k8s) (1.8.0)\n",
      "Requirement already satisfied: nbformat in /opt/conda/lib/python3.8/site-packages (from notebook->netapp-dataops-k8s) (5.8.0)\n",
      "Requirement already satisfied: nbconvert>=5 in /opt/conda/lib/python3.8/site-packages (from notebook->netapp-dataops-k8s) (7.2.10)\n",
      "Requirement already satisfied: jupyter-core>=4.6.1 in /opt/conda/lib/python3.8/site-packages (from notebook->netapp-dataops-k8s) (5.3.0)\n",
      "Requirement already satisfied: nest-asyncio>=1.5 in /opt/conda/lib/python3.8/site-packages (from notebook->netapp-dataops-k8s) (1.5.6)\n",
      "Requirement already satisfied: pytz>=2017.3 in /opt/conda/lib/python3.8/site-packages (from pandas->netapp-dataops-k8s) (2023.2)\n",
      "Requirement already satisfied: cachetools<5.0,>=2.0.0 in /opt/conda/lib/python3.8/site-packages (from google-auth>=1.0.1->kubernetes==23.6.0->netapp-dataops-k8s) (4.2.4)\n",
      "Requirement already satisfied: pyasn1-modules>=0.2.1 in /opt/conda/lib/python3.8/site-packages (from google-auth>=1.0.1->kubernetes==23.6.0->netapp-dataops-k8s) (0.2.8)\n",
      "Requirement already satisfied: rsa<5,>=3.1.4 in /opt/conda/lib/python3.8/site-packages (from google-auth>=1.0.1->kubernetes==23.6.0->netapp-dataops-k8s) (4.9)\n",
      "Requirement already satisfied: importlib-metadata>=4.8.3 in /opt/conda/lib/python3.8/site-packages (from jupyter-client>=5.3.4->notebook->netapp-dataops-k8s) (6.1.0)\n",
      "Requirement already satisfied: platformdirs>=2.5 in /opt/conda/lib/python3.8/site-packages (from jupyter-core>=4.6.1->notebook->netapp-dataops-k8s) (3.2.0)\n",
      "Requirement already satisfied: defusedxml in /opt/conda/lib/python3.8/site-packages (from nbconvert>=5->notebook->netapp-dataops-k8s) (0.7.1)\n",
      "Requirement already satisfied: bleach in /opt/conda/lib/python3.8/site-packages (from nbconvert>=5->notebook->netapp-dataops-k8s) (6.0.0)\n",
      "Requirement already satisfied: beautifulsoup4 in /opt/conda/lib/python3.8/site-packages (from nbconvert>=5->notebook->netapp-dataops-k8s) (4.12.0)\n",
      "Requirement already satisfied: packaging in /opt/conda/lib/python3.8/site-packages (from nbconvert>=5->notebook->netapp-dataops-k8s) (23.0)\n",
      "Requirement already satisfied: pandocfilters>=1.4.1 in /opt/conda/lib/python3.8/site-packages (from nbconvert>=5->notebook->netapp-dataops-k8s) (1.5.0)\n",
      "Requirement already satisfied: markupsafe>=2.0 in /opt/conda/lib/python3.8/site-packages (from nbconvert>=5->notebook->netapp-dataops-k8s) (2.1.2)\n",
      "Requirement already satisfied: jupyterlab-pygments in /opt/conda/lib/python3.8/site-packages (from nbconvert>=5->notebook->netapp-dataops-k8s) (0.2.2)\n",
      "Requirement already satisfied: mistune<3,>=2.0.3 in /opt/conda/lib/python3.8/site-packages (from nbconvert>=5->notebook->netapp-dataops-k8s) (2.0.5)\n",
      "Requirement already satisfied: nbclient>=0.5.0 in /opt/conda/lib/python3.8/site-packages (from nbconvert>=5->notebook->netapp-dataops-k8s) (0.7.2)\n",
      "Requirement already satisfied: pygments>=2.4.1 in /opt/conda/lib/python3.8/site-packages (from nbconvert>=5->notebook->netapp-dataops-k8s) (2.14.0)\n",
      "Requirement already satisfied: tinycss2 in /opt/conda/lib/python3.8/site-packages (from nbconvert>=5->notebook->netapp-dataops-k8s) (1.2.1)\n",
      "Requirement already satisfied: fastjsonschema in /opt/conda/lib/python3.8/site-packages (from nbformat->notebook->netapp-dataops-k8s) (2.16.3)\n",
      "Requirement already satisfied: jsonschema>=2.6 in /opt/conda/lib/python3.8/site-packages (from nbformat->notebook->netapp-dataops-k8s) (3.2.0)\n",
      "Requirement already satisfied: ptyprocess in /opt/conda/lib/python3.8/site-packages (from terminado>=0.8.3->notebook->netapp-dataops-k8s) (0.7.0)\n",
      "Requirement already satisfied: argon2-cffi-bindings in /opt/conda/lib/python3.8/site-packages (from argon2-cffi->notebook->netapp-dataops-k8s) (21.2.0)\n",
      "Requirement already satisfied: psutil in /opt/conda/lib/python3.8/site-packages (from ipykernel->notebook->netapp-dataops-k8s) (5.9.4)\n",
      "Requirement already satisfied: matplotlib-inline>=0.1 in /opt/conda/lib/python3.8/site-packages (from ipykernel->notebook->netapp-dataops-k8s) (0.1.6)\n",
      "Requirement already satisfied: ipython>=7.23.1 in /opt/conda/lib/python3.8/site-packages (from ipykernel->notebook->netapp-dataops-k8s) (8.11.0)\n",
      "Requirement already satisfied: debugpy>=1.0 in /opt/conda/lib/python3.8/site-packages (from ipykernel->notebook->netapp-dataops-k8s) (1.6.6)\n",
      "Requirement already satisfied: oauthlib>=3.0.0 in /opt/conda/lib/python3.8/site-packages (from requests-oauthlib->kubernetes==23.6.0->netapp-dataops-k8s) (3.2.2)\n",
      "Requirement already satisfied: zipp>=0.5 in /opt/conda/lib/python3.8/site-packages (from importlib-metadata>=4.8.3->jupyter-client>=5.3.4->notebook->netapp-dataops-k8s) (3.15.0)\n",
      "Requirement already satisfied: prompt-toolkit!=3.0.37,<3.1.0,>=3.0.30 in /opt/conda/lib/python3.8/site-packages (from ipython>=7.23.1->ipykernel->notebook->netapp-dataops-k8s) (3.0.38)\n",
      "Requirement already satisfied: pickleshare in /opt/conda/lib/python3.8/site-packages (from ipython>=7.23.1->ipykernel->notebook->netapp-dataops-k8s) (0.7.5)\n",
      "Requirement already satisfied: pexpect>4.3 in /opt/conda/lib/python3.8/site-packages (from ipython>=7.23.1->ipykernel->notebook->netapp-dataops-k8s) (4.8.0)\n",
      "Requirement already satisfied: decorator in /opt/conda/lib/python3.8/site-packages (from ipython>=7.23.1->ipykernel->notebook->netapp-dataops-k8s) (5.1.1)\n",
      "Requirement already satisfied: stack-data in /opt/conda/lib/python3.8/site-packages (from ipython>=7.23.1->ipykernel->notebook->netapp-dataops-k8s) (0.6.2)\n",
      "Requirement already satisfied: jedi>=0.16 in /opt/conda/lib/python3.8/site-packages (from ipython>=7.23.1->ipykernel->notebook->netapp-dataops-k8s) (0.18.2)\n",
      "Requirement already satisfied: backcall in /opt/conda/lib/python3.8/site-packages (from ipython>=7.23.1->ipykernel->notebook->netapp-dataops-k8s) (0.2.0)\n",
      "Requirement already satisfied: attrs>=17.4.0 in /opt/conda/lib/python3.8/site-packages (from jsonschema>=2.6->nbformat->notebook->netapp-dataops-k8s) (22.2.0)\n",
      "Requirement already satisfied: pyrsistent>=0.14.0 in /opt/conda/lib/python3.8/site-packages (from jsonschema>=2.6->nbformat->notebook->netapp-dataops-k8s) (0.19.3)\n",
      "Requirement already satisfied: pyasn1<0.5.0,>=0.4.6 in /opt/conda/lib/python3.8/site-packages (from pyasn1-modules>=0.2.1->google-auth>=1.0.1->kubernetes==23.6.0->netapp-dataops-k8s) (0.4.8)\n",
      "Requirement already satisfied: cffi>=1.0.1 in /opt/conda/lib/python3.8/site-packages (from argon2-cffi-bindings->argon2-cffi->notebook->netapp-dataops-k8s) (1.14.6)\n",
      "Requirement already satisfied: soupsieve>1.2 in /opt/conda/lib/python3.8/site-packages (from beautifulsoup4->nbconvert>=5->notebook->netapp-dataops-k8s) (2.4)\n",
      "Requirement already satisfied: webencodings in /opt/conda/lib/python3.8/site-packages (from bleach->nbconvert>=5->notebook->netapp-dataops-k8s) (0.5.1)\n",
      "Requirement already satisfied: pycparser in /opt/conda/lib/python3.8/site-packages (from cffi>=1.0.1->argon2-cffi-bindings->argon2-cffi->notebook->netapp-dataops-k8s) (2.21)\n",
      "Requirement already satisfied: parso<0.9.0,>=0.8.0 in /opt/conda/lib/python3.8/site-packages (from jedi>=0.16->ipython>=7.23.1->ipykernel->notebook->netapp-dataops-k8s) (0.8.3)\n",
      "Requirement already satisfied: wcwidth in /opt/conda/lib/python3.8/site-packages (from prompt-toolkit!=3.0.37,<3.1.0,>=3.0.30->ipython>=7.23.1->ipykernel->notebook->netapp-dataops-k8s) (0.2.6)\n",
      "Requirement already satisfied: executing>=1.2.0 in /opt/conda/lib/python3.8/site-packages (from stack-data->ipython>=7.23.1->ipykernel->notebook->netapp-dataops-k8s) (1.2.0)\n",
      "Requirement already satisfied: pure-eval in /opt/conda/lib/python3.8/site-packages (from stack-data->ipython>=7.23.1->ipykernel->notebook->netapp-dataops-k8s) (0.2.2)\n",
      "Requirement already satisfied: asttokens>=2.1.0 in /opt/conda/lib/python3.8/site-packages (from stack-data->ipython>=7.23.1->ipykernel->notebook->netapp-dataops-k8s) (2.2.1)\n",
      "Installing collected packages: termcolor, tabulate, func-timeout, certifi, urllib3, idna, dnspython, chardet, requests, kubernetes, actoolkit, netapp-dataops-k8s\n",
      "  Attempting uninstall: termcolor\n",
      "    Found existing installation: termcolor 2.2.0\n",
      "    Uninstalling termcolor-2.2.0:\n",
      "      Successfully uninstalled termcolor-2.2.0\n",
      "  Attempting uninstall: tabulate\n",
      "    Found existing installation: tabulate 0.9.0\n",
      "    Uninstalling tabulate-0.9.0:\n",
      "      Successfully uninstalled tabulate-0.9.0\n",
      "  Attempting uninstall: certifi\n",
      "    Found existing installation: certifi 2022.12.7\n",
      "    Uninstalling certifi-2022.12.7:\n",
      "      Successfully uninstalled certifi-2022.12.7\n",
      "  Attempting uninstall: urllib3\n",
      "    Found existing installation: urllib3 1.26.15\n",
      "    Uninstalling urllib3-1.26.15:\n",
      "      Successfully uninstalled urllib3-1.26.15\n",
      "  Attempting uninstall: idna\n",
      "    Found existing installation: idna 3.4\n",
      "    Uninstalling idna-3.4:\n",
      "      Successfully uninstalled idna-3.4\n",
      "  Attempting uninstall: requests\n",
      "    Found existing installation: requests 2.28.2\n",
      "    Uninstalling requests-2.28.2:\n",
      "      Successfully uninstalled requests-2.28.2\n",
      "  Attempting uninstall: kubernetes\n",
      "    Found existing installation: kubernetes 12.0.1\n",
      "    Uninstalling kubernetes-12.0.1:\n",
      "      Successfully uninstalled kubernetes-12.0.1\n",
      "\u001b[31mERROR: pip's dependency resolver does not currently take into account all the packages that are installed. This behaviour is the source of the following dependency conflicts.\n",
      "tensorflow-gpu 2.9.3 requires absl-py>=1.0.0, but you have absl-py 0.11.0 which is incompatible.\n",
      "kfp 1.6.3 requires kubernetes<13,>=8.0.0, but you have kubernetes 23.6.0 which is incompatible.\n",
      "jupyterlab-server 2.21.0 requires jsonschema>=4.17.3, but you have jsonschema 3.2.0 which is incompatible.\n",
      "jupyterlab-server 2.21.0 requires requests>=2.28, but you have requests 2.25.1 which is incompatible.\u001b[0m\u001b[31m\n",
      "\u001b[0mSuccessfully installed actoolkit-2.1.3 certifi-2020.12.5 chardet-4.0.0 dnspython-2.1.0 func-timeout-4.3.5 idna-2.10 kubernetes-23.6.0 netapp-dataops-k8s-2.4.0 requests-2.25.1 tabulate-0.8.9 termcolor-1.1.0 urllib3-1.26.5\n"
     ]
    }
   ],
   "source": [
    "! python3 -m pip install netapp-dataops-k8s"
   ]
  },
  {
   "cell_type": "markdown",
   "id": "73528f2e-ab0a-4660-ad70-1b3427d833c6",
   "metadata": {
    "tags": []
   },
   "source": [
    "## ライブラリのインポート\n",
    "本デモで使用するNetApp DataOps Toolkitと汎用ライブラリをインポートします。"
   ]
  },
  {
   "cell_type": "code",
   "execution_count": 3,
   "id": "1d7e82b9-e808-46a6-9b2f-8664a731c739",
   "metadata": {},
   "outputs": [],
   "source": [
    "# NetApp DataOps Toolkitのインポート\n",
    "from netapp_dataops.k8s import list_volumes, create_volume_snapshot, list_volume_snapshots, clone_volume"
   ]
  },
  {
   "cell_type": "code",
   "execution_count": 4,
   "id": "27bbaf85-4678-47ff-91eb-8afc64eaca29",
   "metadata": {},
   "outputs": [],
   "source": [
    "# 汎用ライブラリのインポート\n",
    "import datetime\n",
    "import os"
   ]
  },
  {
   "cell_type": "markdown",
   "id": "59d7ee4b-a453-478e-9662-a3e096a66acb",
   "metadata": {
    "tags": []
   },
   "source": [
    "## デモ環境の事前確認\n",
    "NetApp DataOps Toolkitでバックアップを取得する前に、現在の永続ボリュームの状態を確認します。なお本ワークショップではマルチテナント化されたKubeflowの環境を想定しています。  \n",
    "以下にお使いのKubeflowのテナント名（=k8s namespace）名を入力します。"
   ]
  },
  {
   "cell_type": "code",
   "execution_count": 5,
   "id": "622772a2-ecf0-4d4f-91a1-4d847166756b",
   "metadata": {},
   "outputs": [],
   "source": [
    "# 利用中のテナント名（=k8s namespace）を入力\n",
    "YOUR_NAMESPACE = 'yshimizu'"
   ]
  },
  {
   "cell_type": "markdown",
   "id": "ceb8d18c-494d-4189-b48d-186f905814a7",
   "metadata": {},
   "source": [
    "次にNetApp DataOps Toolkitを使用して、お使いのテナント内に払い出された永続ボリュームの一覧を確認します"
   ]
  },
  {
   "cell_type": "code",
   "execution_count": 4,
   "id": "f2a0ea43-3516-426d-8908-8b79189246c9",
   "metadata": {
    "tags": []
   },
   "outputs": [
    {
     "name": "stdout",
     "output_type": "stream",
     "text": [
      "PersistentVolumeClaim (PVC) Name    Status    Size    StorageClass    Clone    Source PVC    Source VolumeSnapshot\n",
      "----------------------------------  --------  ------  --------------  -------  ------------  -----------------------\n",
      "demo1-volume                        Bound     10Gi    nfs             No\n",
      "demo2-volume                        Bound     10Gi    nfs             No\n",
      "demo3-volume                        Bound     10Gi    nfs             No\n",
      "large-vol                           Bound     1Ti     nfs-large       No\n",
      "myworkspace-volume                  Bound     10Gi    nfs             No\n",
      "overprovisoned-test-volume          Bound     10Gi    nfs             No\n",
      "test-volume                         Bound     10Gi    nfs             No\n",
      "test2-volume                        Bound     10Gi    nfs             No\n",
      "test3-volume                        Bound     10Gi    nfs             No\n"
     ]
    }
   ],
   "source": [
    "# FSxN上に作成されたボリューム一覧の確認\n",
    "volumes = list_volumes(namespace=YOUR_NAMESPACE, print_output=True)"
   ]
  },
  {
   "cell_type": "markdown",
   "id": "33c5f2db-6661-4f71-8a84-1d0f5a737147",
   "metadata": {},
   "source": [
    "上記出力結果からバックアップ対象のボリュームを選定し、以下の変数に代入します"
   ]
  },
  {
   "cell_type": "code",
   "execution_count": 6,
   "id": "b15f7047-e7f3-4728-9614-392964fd26c8",
   "metadata": {
    "tags": []
   },
   "outputs": [],
   "source": [
    "# 上記で表示されたボリュームからバックアップ対象ボリューム（PVC）の名称を指定\n",
    "PVC_NAME = 'demo1-volume'"
   ]
  },
  {
   "cell_type": "markdown",
   "id": "88f9347e-91a7-40d0-84d8-bd8d7d1305a1",
   "metadata": {},
   "source": [
    "## NetApp DataOps Toolkitを使用したボリュームの高速バックアップ\n",
    "上記で確認したボリュームのバックアップを取得します。下記のコードによりNetApp DataOps ToolkitはCSI-Snapshotterを介して、volumeSnapshotの取得を行います。TridentのバックエンドストレージがNetApp ONTAPの場合、ボリューム内の実データではなく、データへのポインタ情報のみをバックアップするため大規模なボリュームであっても、バックアップ自体の容量は極めて小さく、バックアップ処理も瞬時に完了します。"
   ]
  },
  {
   "cell_type": "code",
   "execution_count": 7,
   "id": "d539e215-0837-491d-ae1d-9a586fbdccf4",
   "metadata": {
    "tags": []
   },
   "outputs": [],
   "source": [
    "# 取得するSnapshotの名称を生成\n",
    "t_delta = datetime.timedelta(hours=9)\n",
    "JST = datetime.timezone(t_delta, 'JST')\n",
    "now = datetime.datetime.now(JST)\n",
    "timestamp = now.strftime('%Y%m%d%H%M%S')\n",
    "SNAPSHOT_NAME = \"snapshot-\" + timestamp"
   ]
  },
  {
   "cell_type": "code",
   "execution_count": 8,
   "id": "62355ce2-2042-44dc-9a4a-08539afc3449",
   "metadata": {
    "tags": []
   },
   "outputs": [
    {
     "name": "stdout",
     "output_type": "stream",
     "text": [
      "Creating VolumeSnapshot 'snapshot-20230913140032' for PersistentVolumeClaim (PVC) 'demo1-volume' in namespace 'yshimizu'.\n",
      "VolumeSnapshot 'snapshot-20230913140032' created. Waiting for Trident to create snapshot on backing storage.\n",
      "Snapshot successfully created.\n"
     ]
    }
   ],
   "source": [
    "# NetApp DataOps Toolkitを使用して、ボリュームのSnapshotを取得\n",
    "create_volume_snapshot(namespace=YOUR_NAMESPACE, pvc_name=PVC_NAME, snapshot_name=SNAPSHOT_NAME, print_output=True)"
   ]
  },
  {
   "cell_type": "code",
   "execution_count": 9,
   "id": "63f57ab2-e191-4839-b6a6-cd236c3eeda2",
   "metadata": {
    "tags": []
   },
   "outputs": [
    {
     "name": "stdout",
     "output_type": "stream",
     "text": [
      "VolumeSnapshot Name      Ready to Use    Creation Time         Source PersistentVolumeClaim (PVC)    Source JupyterLab workspace    VolumeSnapshotClass\n",
      "-----------------------  --------------  --------------------  ------------------------------------  -----------------------------  ---------------------\n",
      "snapshot-20230913133543  True            2023-09-13T04:35:51Z  demo1-volume                                                         csi-snapclass\n",
      "snapshot-20230913140032  True            2023-09-13T05:00:39Z  demo1-volume                                                         csi-snapclass\n"
     ]
    }
   ],
   "source": [
    "# 取得したSnapshotの一覧を確認\n",
    "snap = list_volume_snapshots(namespace=YOUR_NAMESPACE, pvc_name=PVC_NAME, print_output=True)"
   ]
  }
 ],
 "metadata": {
  "kernelspec": {
   "display_name": "Python 3 (ipykernel)",
   "language": "python",
   "name": "python3"
  },
  "language_info": {
   "codemirror_mode": {
    "name": "ipython",
    "version": 3
   },
   "file_extension": ".py",
   "mimetype": "text/x-python",
   "name": "python",
   "nbconvert_exporter": "python",
   "pygments_lexer": "ipython3",
   "version": "3.8.10"
  }
 },
 "nbformat": 4,
 "nbformat_minor": 5
}
